{
 "cells": [
  {
   "cell_type": "markdown",
   "metadata": {},
   "source": [
    "# Traffic signs detection project #\n",
    "Section 5 of our project: using an external ResNet."
   ]
  },
  {
   "cell_type": "code",
   "execution_count": 29,
   "metadata": {},
   "outputs": [],
   "source": [
    "import os \n",
    "import cv2\n",
    "import numpy as np\n",
    "import matplotlib.pyplot as plt\n",
    "%matplotlib inline\n",
    "\n",
    "path_base = os.getcwd() + \"\\\\databases\"\n",
    "train, test = np.load(os.path.join(path_base,'train_color.npy')), np.load(os.path.join(path_base,'test_color.npy'))\n",
    "train = train.astype(\"float32\") / 255\n",
    "train = np.expand_dims(train, -1)\n",
    "test = test.astype(\"float32\") / 255\n",
    "test = np.expand_dims(test, -1)\n",
    "\n"
   ]
  },
  {
   "cell_type": "code",
   "execution_count": 120,
   "metadata": {},
   "outputs": [],
   "source": [
    "path_pict = os.getcwd() + \"\\\\pictures\"\n",
    "\n",
    "f = open(path_pict + \"\\\\TsignRecgTrain4170Annotation.txt\", \"r\")\n",
    "str = f.read()\n",
    "\n",
    "lines = str.split(\"\\n\")\n",
    "arr = []\n",
    "for line in lines:\n",
    "    arr.append(int(line.split(\";\")[7]))\n",
    "    \n",
    "Train_classes = []\n",
    "for i in range(58):\n",
    "    for k in range(arr.count(i)):\n",
    "        Train_classes.append(i)\n",
    "\n",
    "#get classification from file\n",
    "path_pict = os.getcwd() + \"\\\\pictures\"\n",
    "\n",
    "f = open(path_pict + \"\\\\TsignRecgTest1994Annotation.txt\", \"r\")\n",
    "str = f.read()\n",
    "\n",
    "lines = str.split(\"\\n\")\n",
    "arr = []\n",
    "for line in lines:\n",
    "    arr.append(int(line.split(\";\")[7]))\n",
    "    \n",
    "Test_classes = []\n",
    "for i in range(58):\n",
    "    for k in range(arr.count(i)):\n",
    "        Test_classes.append(i)\n",
    "Test_classes = np.array(Test_classes)\n",
    "Train_classes = np.array(Train_classes)\n",
    "\n",
    "\n",
    "large_train_classes = []\n",
    "for i in range(0, 4170*3):\n",
    "    large_train_classes.append(Train_classes[i % 4170])\n",
    "\n",
    "# Now we augmentate the images in the array in order to get a larger data set and try to reach higher accuracy percentage:\n",
    "from scipy import ndimage\n",
    "\n",
    "large_train = []\n",
    "\n",
    "for i in range(0, 4170):\n",
    "    large_train.append(train[i])\n",
    "for i in range(0, 4170):\n",
    "    large_train.append(ndimage.rotate(train[i], 20, reshape=False))\n",
    "for i in range(0, 4170):\n",
    "    large_train.append(ndimage.rotate(train[i], -20, reshape=False))\n",
    "\n",
    "large_train = np.array(large_train)"
   ]
  },
  {
   "cell_type": "code",
   "execution_count": 172,
   "metadata": {},
   "outputs": [
    {
     "name": "stdout",
     "output_type": "stream",
     "text": [
      "Model: \"model_42\"\n",
      "_________________________________________________________________\n",
      " Layer (type)                Output Shape              Param #   \n",
      "=================================================================\n",
      " input_51 (InputLayer)       [(None, 45, 45, 3)]       0         \n",
      "                                                                 \n",
      " block1_conv1 (Conv2D)       (None, 45, 45, 64)        1792      \n",
      "                                                                 \n",
      " block1_conv2 (Conv2D)       (None, 45, 45, 64)        36928     \n",
      "                                                                 \n",
      " block1_pool (MaxPooling2D)  (None, 22, 22, 64)        0         \n",
      "                                                                 \n",
      " block2_conv1 (Conv2D)       (None, 22, 22, 128)       73856     \n",
      "                                                                 \n",
      " block2_conv2 (Conv2D)       (None, 22, 22, 128)       147584    \n",
      "                                                                 \n",
      " block2_pool (MaxPooling2D)  (None, 11, 11, 128)       0         \n",
      "                                                                 \n",
      " block3_conv1 (Conv2D)       (None, 11, 11, 256)       295168    \n",
      "                                                                 \n",
      " block3_conv2 (Conv2D)       (None, 11, 11, 256)       590080    \n",
      "                                                                 \n",
      " block3_conv3 (Conv2D)       (None, 11, 11, 256)       590080    \n",
      "                                                                 \n",
      " block3_conv4 (Conv2D)       (None, 11, 11, 256)       590080    \n",
      "                                                                 \n",
      " block3_pool (MaxPooling2D)  (None, 5, 5, 256)         0         \n",
      "                                                                 \n",
      " block4_conv1 (Conv2D)       (None, 5, 5, 512)         1180160   \n",
      "                                                                 \n",
      " block4_conv2 (Conv2D)       (None, 5, 5, 512)         2359808   \n",
      "                                                                 \n",
      " block4_conv3 (Conv2D)       (None, 5, 5, 512)         2359808   \n",
      "                                                                 \n",
      " block4_conv4 (Conv2D)       (None, 5, 5, 512)         2359808   \n",
      "                                                                 \n",
      " block4_pool (MaxPooling2D)  (None, 2, 2, 512)         0         \n",
      "                                                                 \n",
      " block5_conv1 (Conv2D)       (None, 2, 2, 512)         2359808   \n",
      "                                                                 \n",
      " block5_conv2 (Conv2D)       (None, 2, 2, 512)         2359808   \n",
      "                                                                 \n",
      " block5_conv3 (Conv2D)       (None, 2, 2, 512)         2359808   \n",
      "                                                                 \n",
      " block5_conv4 (Conv2D)       (None, 2, 2, 512)         2359808   \n",
      "                                                                 \n",
      " block5_pool (MaxPooling2D)  (None, 1, 1, 512)         0         \n",
      "                                                                 \n",
      " flatten_42 (Flatten)        (None, 512)               0         \n",
      "                                                                 \n",
      " dense_80 (Dense)            (None, 1024)              525312    \n",
      "                                                                 \n",
      " dropout_16 (Dropout)        (None, 1024)              0         \n",
      "                                                                 \n",
      " batch_normalization_12 (Bat  (None, 1024)             4096      \n",
      " chNormalization)                                                \n",
      "                                                                 \n",
      " dense_81 (Dense)            (None, 58)                59450     \n",
      "                                                                 \n",
      "=================================================================\n",
      "Total params: 20,613,242\n",
      "Trainable params: 586,810\n",
      "Non-trainable params: 20,026,432\n",
      "_________________________________________________________________\n"
     ]
    }
   ],
   "source": [
    "# Now we use the ResNet. We tries using ResNet50 and ResNet101 as well but we got the best score with ResNet152.\n",
    "\n",
    "from tensorflow import keras\n",
    "from tensorflow.keras import layers\n",
    "from tensorflow.keras.models import Sequential\n",
    "from tensorflow.keras import layers\n",
    "from keras.applications import VGG19\n",
    "\n",
    "from keras.models import Model\n",
    "from keras.layers import Dense\n",
    "from keras.layers import Flatten\n",
    "        \n",
    "num_classes = 58\n",
    "input_shape = (45, 45, 3)\n",
    "y_train = keras.utils.to_categorical(Train_classes, num_classes)\n",
    "y_test = keras.utils.to_categorical(Test_classes, num_classes)\n",
    "\n",
    "# Load model without classifier layers:\n",
    "model = VGG19(weights=\"imagenet\", include_top=False, input_shape=input_shape)\n",
    "model.trainable = False\n",
    "\n",
    "# Add new classifier layers:\n",
    "flat1 = Flatten()(model.output)\n",
    "class1 = Dense(1024, activation='relu')(flat1)\n",
    "drop = layers.Dropout(0.2)(class1)\n",
    "bn = layers.BatchNormalization()(drop)\n",
    "output = Dense(num_classes, activation='softmax')(bn)\n",
    "\n",
    "# Define new model and summarize it:\n",
    "model = Model(inputs=model.inputs, outputs=output)\n",
    "model.summary()"
   ]
  },
  {
   "cell_type": "code",
   "execution_count": 173,
   "metadata": {
    "scrolled": true
   },
   "outputs": [
    {
     "name": "stdout",
     "output_type": "stream",
     "text": [
      "Epoch 1/5\n",
      "30/30 [==============================] - 87s 3s/step - loss: 1.8582 - categorical_accuracy: 0.5246 - val_loss: 3.7585 - val_categorical_accuracy: 0.2710\n",
      "Epoch 2/5\n",
      "30/30 [==============================] - 93s 3s/step - loss: 0.7293 - categorical_accuracy: 0.7927 - val_loss: 3.5201 - val_categorical_accuracy: 0.3309\n",
      "Epoch 3/5\n",
      "30/30 [==============================] - 84s 3s/step - loss: 0.4377 - categorical_accuracy: 0.8796 - val_loss: 3.3210 - val_categorical_accuracy: 0.3333\n",
      "Epoch 4/5\n",
      "30/30 [==============================] - 83s 3s/step - loss: 0.2985 - categorical_accuracy: 0.9195 - val_loss: 3.3515 - val_categorical_accuracy: 0.3333\n",
      "Epoch 5/5\n",
      "30/30 [==============================] - 82s 3s/step - loss: 0.2238 - categorical_accuracy: 0.9416 - val_loss: 3.4321 - val_categorical_accuracy: 0.3333\n",
      "Test loss: 2.7724764347076416\n",
      "Test accuracy: 0.4109109044075012\n"
     ]
    }
   ],
   "source": [
    "batch_size = 128\n",
    "epochs = 5\n",
    "model.compile(optimizer='Adam',\n",
    "  loss=\"categorical_crossentropy\",\n",
    "  metrics=[keras.metrics.CategoricalAccuracy()])\n",
    "\n",
    "history = model.fit(train, y_train, batch_size=batch_size, epochs=epochs, validation_split=0.1)\n",
    "\n",
    "score = model.evaluate(test, y_test, verbose=0)\n",
    "print(\"Test loss:\", score[0])\n",
    "print(\"Test accuracy:\", score[1])"
   ]
  },
  {
   "cell_type": "code",
   "execution_count": 165,
   "metadata": {},
   "outputs": [
    {
     "data": {
      "image/png": "[encoded data removed]",
      "text/plain": [
       "<Figure size 1008x432 with 2 Axes>"
      ]
     },
     "metadata": {
      "needs_background": "light"
     },
     "output_type": "display_data"
    }
   ],
   "source": [
    "history_dict = history.history\n",
    "loss_values = history_dict['loss']\n",
    "val_loss_values = history_dict['val_loss']\n",
    "accuracy = history_dict['categorical_accuracy']\n",
    "val_accuracy = history_dict['val_categorical_accuracy']\n",
    " \n",
    "epochs = range(1, len(loss_values) + 1)\n",
    "fig, ax = plt.subplots(1, 2, figsize=(14, 6))\n",
    "#\n",
    "# Plot the model accuracy vs Epochs\n",
    "#\n",
    "ax[0].plot(epochs, accuracy, 'g', label='Training accuracy')\n",
    "ax[0].plot(epochs, val_accuracy, 'b', label='Validation accuracy')\n",
    "ax[0].set_title('Training & Validation Accuracy', fontsize=16)\n",
    "ax[0].set_xlabel('Epochs', fontsize=16)\n",
    "ax[0].set_ylabel('Accuracy', fontsize=16)\n",
    "ax[0].legend()\n",
    "#\n",
    "# Plot the loss vs Epochs\n",
    "#\n",
    "ax[1].plot(epochs, loss_values, 'g', label='Training loss')\n",
    "ax[1].plot(epochs, val_loss_values, 'b', label='Validation loss')\n",
    "ax[1].set_title('Training & Validation Loss', fontsize=16)\n",
    "ax[1].set_xlabel('Epochs', fontsize=16)\n",
    "ax[1].set_ylabel('Loss', fontsize=16)\n",
    "ax[1].legend()\n",
    "\n",
    "plt.show()"
   ]
  },
  {
   "cell_type": "markdown",
   "metadata": {},
   "source": [
    "# In conclusion:\n",
    "1. We managed to get 50% accuracy score on a 4170 pictures dataset of traffic signs (only train. Combined with the test set we have 6000 images). \n",
    "2. We decided to increase our dataset by rotating each image 20 degrees and 340 degrees - we got now 4170*3=12510 images for our train set.\n",
    "3. We ran our Neural Net and got 80% accuracy now.\n",
    "4. We tried using a Keras ResNet and comparing to our net, it doesn't work so well with our dataset."
   ]
  }
 ],
 "metadata": {
  "kernelspec": {
   "display_name": "Python 3.8.6 64-bit",
   "language": "python",
   "name": "python3"
  },
  "language_info": {
   "codemirror_mode": {
    "name": "ipython",
    "version": 3
   },
   "file_extension": ".py",
   "mimetype": "text/x-python",
   "name": "python",
   "nbconvert_exporter": "python",
   "pygments_lexer": "ipython3",
   "version": "3.8.6"
  },
  "vscode": {
   "interpreter": {
    "hash": "f544ce1a915a9875fad91c894e2c0bcad4b7a79945aa6027ef3ad27810072aa6"
   }
  }
 },
 "nbformat": 4,
 "nbformat_minor": 2
}
