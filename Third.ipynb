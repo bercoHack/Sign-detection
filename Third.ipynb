{
 "cells": [
  {
   "cell_type": "markdown",
   "id": "526d970f",
   "metadata": {},
   "source": [
    "# Traffic signs detection project #\n",
    "Section 3: CNN."
   ]
  },
  {
   "cell_type": "code",
   "execution_count": 7,
   "id": "6b696295",
   "metadata": {},
   "outputs": [],
   "source": [
    "import os \n",
    "import numpy as np\n",
    "import matplotlib.pyplot as plt\n",
    "from sklearn.decomposition import PCA\n",
    "from sklearn.discriminant_analysis import LinearDiscriminantAnalysis\n",
    "\n",
    "path_base = os.getcwd() + \"\\\\databases\"\n",
    "train, test = np.load(os.path.join(path_base,'train.npy')), np.load(os.path.join(path_base,'test.npy'))\n",
    "# train = train.astype(\"float32\") / 255\n",
    "# train = np.expand_dims(train, -1)\n",
    "# test = test.astype(\"float32\") / 255\n",
    "# test = np.expand_dims(test, -1)\n"
   ]
  },
  {
   "cell_type": "code",
   "execution_count": 8,
   "id": "d09e1bae",
   "metadata": {},
   "outputs": [],
   "source": [
    "path_pict = os.getcwd() + \"\\\\pictures\"\n",
    "\n",
    "f = open(path_pict + \"\\\\TsignRecgTrain4170Annotation.txt\", \"r\")\n",
    "str = f.read()\n",
    "\n",
    "lines = str.split(\"\\n\")\n",
    "arr = []\n",
    "for line in lines:\n",
    "    arr.append(int(line.split(\";\")[7]))\n",
    "    \n",
    "Train_classes = []\n",
    "for i in range(58):\n",
    "    for k in range(arr.count(i)):\n",
    "        Train_classes.append(i)\n",
    "\n",
    "#get classification from file\n",
    "path_pict = os.getcwd() + \"\\\\pictures\"\n",
    "\n",
    "f = open(path_pict + \"\\\\TsignRecgTest1994Annotation.txt\", \"r\")\n",
    "str = f.read()\n",
    "\n",
    "lines = str.split(\"\\n\")\n",
    "arr = []\n",
    "for line in lines:\n",
    "    arr.append(int(line.split(\";\")[7]))\n",
    "    \n",
    "Test_classes = []\n",
    "for i in range(58):\n",
    "    for k in range(arr.count(i)):\n",
    "        Test_classes.append(i)\n",
    "Test_classes = np.array(Test_classes)\n",
    "Train_classes = np.array(Train_classes)\n",
    "\n",
    "large_train_classes = []\n",
    "for i in range(0, 4170*3):\n",
    "    large_train_classes.append(Train_classes[i % 4170])\n"
   ]
  },
  {
   "cell_type": "code",
   "execution_count": 9,
   "id": "e18d52cb",
   "metadata": {},
   "outputs": [],
   "source": [
    "# Now we augmentate the images in the array in order to get a larger data set and try to reach higher accuracy percentage:\n",
    "from scipy import ndimage\n",
    "\n",
    "large_train = []\n",
    "\n",
    "for i in range(0, 4170):\n",
    "    large_train.append(train[i])\n",
    "for i in range(0, 4170):\n",
    "    large_train.append(ndimage.rotate(train[i], 20, reshape=False))\n",
    "for i in range(0, 4170):\n",
    "    large_train.append(ndimage.rotate(train[i], -20, reshape=False))\n",
    "\n",
    "large_train = np.array(large_train)"
   ]
  },
  {
   "cell_type": "code",
   "execution_count": null,
   "id": "f03fb525",
   "metadata": {},
   "outputs": [],
   "source": []
  },
  {
   "cell_type": "code",
   "execution_count": 11,
   "id": "b343cef1",
   "metadata": {
    "scrolled": true
   },
   "outputs": [
    {
     "name": "stdout",
     "output_type": "stream",
     "text": [
      "Model: \"sequential_1\"\n",
      "_________________________________________________________________\n",
      " Layer (type)                Output Shape              Param #   \n",
      "=================================================================\n",
      " rescaling (Rescaling)       (None, 45, 45, 1)         0         \n",
      "                                                                 \n",
      " conv2d_3 (Conv2D)           (None, 40, 40, 24)        888       \n",
      "                                                                 \n",
      " batch_normalization_3 (Batc  (None, 40, 40, 24)       96        \n",
      " hNormalization)                                                 \n",
      "                                                                 \n",
      " conv2d_4 (Conv2D)           (None, 18, 18, 48)        28848     \n",
      "                                                                 \n",
      " dropout_2 (Dropout)         (None, 18, 18, 48)        0         \n",
      "                                                                 \n",
      " conv2d_5 (Conv2D)           (None, 8, 8, 64)          49216     \n",
      "                                                                 \n",
      " batch_normalization_4 (Batc  (None, 8, 8, 64)         256       \n",
      " hNormalization)                                                 \n",
      "                                                                 \n",
      " flatten_1 (Flatten)         (None, 4096)              0         \n",
      "                                                                 \n",
      " dense_2 (Dense)             (None, 58)                237626    \n",
      "                                                                 \n",
      " dropout_3 (Dropout)         (None, 58)                0         \n",
      "                                                                 \n",
      " batch_normalization_5 (Batc  (None, 58)               232       \n",
      " hNormalization)                                                 \n",
      "                                                                 \n",
      " dense_3 (Dense)             (None, 58)                3422      \n",
      "                                                                 \n",
      "=================================================================\n",
      "Total params: 320,584\n",
      "Trainable params: 320,292\n",
      "Non-trainable params: 292\n",
      "_________________________________________________________________\n",
      "Epoch 1/15\n",
      "88/88 [==============================] - 34s 343ms/step - loss: 2.7302 - accuracy: 0.3987 - val_loss: 4.1354 - val_accuracy: 0.0000e+00\n",
      "Epoch 2/15\n",
      "88/88 [==============================] - 30s 337ms/step - loss: 1.4172 - accuracy: 0.6980 - val_loss: 4.9789 - val_accuracy: 0.0000e+00\n",
      "Epoch 3/15\n",
      "88/88 [==============================] - 27s 306ms/step - loss: 0.9481 - accuracy: 0.7947 - val_loss: 4.7979 - val_accuracy: 0.0000e+00\n",
      "Epoch 4/15\n",
      "88/88 [==============================] - 31s 357ms/step - loss: 0.7001 - accuracy: 0.8455 - val_loss: 3.4996 - val_accuracy: 0.0144\n",
      "Epoch 5/15\n",
      "88/88 [==============================] - 32s 367ms/step - loss: 0.5268 - accuracy: 0.8852 - val_loss: 2.4245 - val_accuracy: 0.3189\n",
      "Epoch 6/15\n",
      "88/88 [==============================] - 29s 329ms/step - loss: 0.4135 - accuracy: 0.9125 - val_loss: 1.7059 - val_accuracy: 0.4876\n",
      "Epoch 7/15\n",
      "88/88 [==============================] - 28s 314ms/step - loss: 0.3371 - accuracy: 0.9294 - val_loss: 1.4078 - val_accuracy: 0.5604\n",
      "Epoch 8/15\n",
      "88/88 [==============================] - 31s 355ms/step - loss: 0.2798 - accuracy: 0.9401 - val_loss: 1.3616 - val_accuracy: 0.5827\n",
      "Epoch 9/15\n",
      "88/88 [==============================] - 30s 342ms/step - loss: 0.2308 - accuracy: 0.9517 - val_loss: 1.2858 - val_accuracy: 0.6227\n",
      "Epoch 10/15\n",
      "88/88 [==============================] - 31s 351ms/step - loss: 0.2008 - accuracy: 0.9562 - val_loss: 1.1136 - val_accuracy: 0.6675\n",
      "Epoch 11/15\n",
      "88/88 [==============================] - 28s 316ms/step - loss: 0.1798 - accuracy: 0.9620 - val_loss: 1.1728 - val_accuracy: 0.6483\n",
      "Epoch 12/15\n",
      "88/88 [==============================] - 28s 318ms/step - loss: 0.1568 - accuracy: 0.9663 - val_loss: 1.2208 - val_accuracy: 0.6275\n",
      "Epoch 13/15\n",
      "88/88 [==============================] - 27s 305ms/step - loss: 0.1347 - accuracy: 0.9718 - val_loss: 1.2589 - val_accuracy: 0.6211\n",
      "Epoch 14/15\n",
      "88/88 [==============================] - 27s 310ms/step - loss: 0.1203 - accuracy: 0.9741 - val_loss: 1.2037 - val_accuracy: 0.6339\n",
      "Epoch 15/15\n",
      "88/88 [==============================] - 31s 348ms/step - loss: 0.1095 - accuracy: 0.9752 - val_loss: 1.2561 - val_accuracy: 0.6387\n",
      "Test loss: 0.8707879781723022\n",
      "Test accuracy: 0.7637637853622437\n"
     ]
    }
   ],
   "source": [
    "# Neural Network (CNN):\n",
    "import numpy as np\n",
    "from tensorflow import keras\n",
    "from tensorflow.keras import layers\n",
    "import tensorflow as tf\n",
    "\n",
    "num_classes = 58\n",
    "input_shape = (45, 45, 1)\n",
    "y_train = keras.utils.to_categorical(large_train_classes, num_classes)\n",
    "y_test = keras.utils.to_categorical(Test_classes, num_classes)\n",
    "\n",
    "model = keras.Sequential(\n",
    "    [\n",
    "        keras.Input(shape=input_shape),\n",
    "        layers.Rescaling(scale=1 / 127.5, offset=-1),\n",
    "        layers.Conv2D(24, kernel_size=(6, 6), activation=\"relu\"),\n",
    "        layers.BatchNormalization(),\n",
    "        layers.Conv2D(48, kernel_size=(5, 5), strides=(2, 2), activation=\"relu\"),\n",
    "        layers.Dropout(0.5),\n",
    "        layers.Conv2D(64, kernel_size=(4, 4), strides=(2, 2), activation=\"relu\"),\n",
    "        layers.BatchNormalization(),\n",
    "        layers.Flatten(),\n",
    "        layers.Dense(num_classes, activation=\"relu\"),\n",
    "        layers.Dropout(0.5),\n",
    "        layers.BatchNormalization(),\n",
    "        layers.Dense(num_classes, activation=\"softmax\"),\n",
    "    ]\n",
    ")\n",
    "\n",
    "model.summary()\n",
    "\n",
    "\n",
    "batch_size = 128\n",
    "epochs = 15\n",
    "model.compile(loss=\"categorical_crossentropy\", optimizer=\"adam\", metrics=[\"accuracy\"])\n",
    "history = model.fit(large_train, y_train, batch_size=batch_size, epochs=epochs, validation_split=0.1)\n",
    "\n",
    "score = model.evaluate(test, y_test, verbose=0)\n",
    "print(\"Test loss:\", score[0])\n",
    "print(\"Test accuracy:\", score[1])"
   ]
  },
  {
   "cell_type": "code",
   "execution_count": 12,
   "id": "00939b76",
   "metadata": {},
   "outputs": [
    {
     "data": {
      "image/png": "[encoded data removed]",
      "text/plain": [
       "<Figure size 1008x432 with 2 Axes>"
      ]
     },
     "metadata": {
      "needs_background": "light"
     },
     "output_type": "display_data"
    }
   ],
   "source": [
    "history_dict = history.history\n",
    "loss_values = history_dict['loss']\n",
    "val_loss_values = history_dict['val_loss']\n",
    "accuracy = history_dict['accuracy']\n",
    "val_accuracy = history_dict['val_accuracy']\n",
    " \n",
    "epochs = range(1, len(loss_values) + 1)\n",
    "fig, ax = plt.subplots(1, 2, figsize=(14, 6))\n",
    "#\n",
    "# Plot the model accuracy vs Epochs\n",
    "#\n",
    "ax[0].plot(epochs, accuracy, 'g', label='Training accuracy')\n",
    "ax[0].plot(epochs, val_accuracy, 'b', label='Validation accuracy')\n",
    "ax[0].set_title('Training & Validation Accuracy', fontsize=16)\n",
    "ax[0].set_xlabel('Epochs', fontsize=16)\n",
    "ax[0].set_ylabel('Accuracy', fontsize=16)\n",
    "ax[0].legend()\n",
    "#\n",
    "# Plot the loss vs Epochs\n",
    "#\n",
    "ax[1].plot(epochs, loss_values, 'g', label='Training loss')\n",
    "ax[1].plot(epochs, val_loss_values, 'b', label='Validation loss')\n",
    "ax[1].set_title('Training & Validation Loss', fontsize=16)\n",
    "ax[1].set_xlabel('Epochs', fontsize=16)\n",
    "ax[1].set_ylabel('Loss', fontsize=16)\n",
    "ax[1].legend()\n",
    "\n",
    "plt.show()"
   ]
  },
  {
   "cell_type": "code",
   "execution_count": null,
   "id": "b85e544e",
   "metadata": {},
   "outputs": [],
   "source": []
  }
 ],
 "metadata": {
  "kernelspec": {
   "display_name": "Python 3 (ipykernel)",
   "language": "python",
   "name": "python3"
  },
  "language_info": {
   "codemirror_mode": {
    "name": "ipython",
    "version": 3
   },
   "file_extension": ".py",
   "mimetype": "text/x-python",
   "name": "python",
   "nbconvert_exporter": "python",
   "pygments_lexer": "ipython3",
   "version": "3.9.6"
  },
  "vscode": {
   "interpreter": {
    "hash": "f544ce1a915a9875fad91c894e2c0bcad4b7a79945aa6027ef3ad27810072aa6"
   }
  }
 },
 "nbformat": 4,
 "nbformat_minor": 5
}
