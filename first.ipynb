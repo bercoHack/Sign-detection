{
 "cells": [
  {
   "cell_type": "markdown",
   "metadata": {},
   "source": [
    "# Traffic signs detection project #\n",
    "Section 1: extracting features and using them on 3 models."
   ]
  },
  {
   "cell_type": "code",
   "execution_count": 6,
   "metadata": {},
   "outputs": [],
   "source": [
    "import os \n",
    "import cv2\n",
    "import numpy as np\n",
    "import matplotlib.pyplot as plt\n",
    "from sklearn.decomposition import PCA\n",
    "from sklearn.discriminant_analysis import LinearDiscriminantAnalysis\n",
    "\n",
    "path_base = os.getcwd() + \"\\\\databases\"\n",
    "train, test = np.load(os.path.join(path_base,'train.npy')), np.load(os.path.join(path_base,'test.npy'))"
   ]
  },
  {
   "cell_type": "markdown",
   "metadata": {},
   "source": [
    "data changes:"
   ]
  },
  {
   "cell_type": "code",
   "execution_count": 7,
   "metadata": {},
   "outputs": [],
   "source": [
    "# Change array of pictures of size 45x45 to array of pictures 45*45=2025:\n",
    "x1 = train\n",
    "x1 = x1.astype(\"float32\") / 255\n",
    "rows, cols = (4170, 2025)\n",
    "train = np.array([[0]*cols]*rows)\n",
    "train = train.astype(\"float32\")\n",
    "jump = 0\n",
    "for i in range(0,rows):\n",
    "    for j in range(0, 45):\n",
    "        for k in range(0, 45):\n",
    "            train[i][jump] = x1[i][j][k]\n",
    "            jump = jump + 1\n",
    "    jump = 0\n",
    "\n",
    "\n",
    "x2 = test\n",
    "x2 = x2.astype(\"float32\") / 255\n",
    "rows, cols = (1998, 2025)\n",
    "test = np.array([[0]*cols]*rows)\n",
    "test = test.astype(\"float32\")\n",
    "jump = 0\n",
    "for i in range(0,rows):\n",
    "    for j in range(0, 45):\n",
    "        for k in range(0, 45):\n",
    "            test[i][jump] = x2[i][j][k]\n",
    "            jump = jump + 1\n",
    "    jump = 0"
   ]
  },
  {
   "cell_type": "markdown",
   "metadata": {},
   "source": [
    "get classification from file"
   ]
  },
  {
   "cell_type": "code",
   "execution_count": 8,
   "metadata": {},
   "outputs": [],
   "source": [
    "path_pict = os.getcwd() + \"\\\\pictures\"\n",
    "\n",
    "f = open(path_pict + \"\\\\TsignRecgTrain4170Annotation.txt\", \"r\")\n",
    "str = f.read()\n",
    "\n",
    "lines = str.split(\"\\n\")\n",
    "arr = []\n",
    "for line in lines:\n",
    "    arr.append(int(line.split(\";\")[7]))\n",
    "    \n",
    "Train_classes = []\n",
    "for i in range(58):\n",
    "    for k in range(arr.count(i)):\n",
    "        Train_classes.append(i)\n",
    "\n",
    "#get classification from file\n",
    "path_pict = os.getcwd() + \"\\\\pictures\"\n",
    "\n",
    "f = open(path_pict + \"\\\\TsignRecgTest1994Annotation.txt\", \"r\")\n",
    "str = f.read()\n",
    "\n",
    "lines = str.split(\"\\n\")\n",
    "arr = []\n",
    "for line in lines:\n",
    "    arr.append(int(line.split(\";\")[7]))\n",
    "    \n",
    "Test_classes = []\n",
    "for i in range(58):\n",
    "    for k in range(arr.count(i)):\n",
    "        Test_classes.append(i)\n"
   ]
  },
  {
   "cell_type": "markdown",
   "metadata": {},
   "source": [
    "check the best amount of components for pca and lda"
   ]
  },
  {
   "cell_type": "code",
   "execution_count": 9,
   "metadata": {},
   "outputs": [],
   "source": [
    "from sklearn.ensemble import RandomForestClassifier\n",
    "from sklearn.model_selection import train_test_split\n",
    "from sklearn.metrics import accuracy_score\n",
    "from sklearn import ensemble\n",
    "from sklearn.metrics import mean_squared_error\n",
    "\n",
    "Model_trainErr_PCA = []\n",
    "Model_testErr_PCA = []\n",
    "Model_trainErr_LDA = []\n",
    "Model_testErr_LDA = []\n",
    "\n",
    "for i in range(1,21,2):\n",
    "    pca = PCA(n_components=i)\n",
    "    t_pca_train = pca.fit_transform(train)\n",
    "    t_pca_test = pca.transform(test)\n",
    "    \n",
    "    clf1 = RandomForestClassifier(max_depth=10, random_state=0)\n",
    "    clf1.fit(t_pca_train, Train_classes)\n",
    "    Model_trainErr_PCA.append(1-clf1.score(t_pca_train, Train_classes))\n",
    "    Model_testErr_PCA.append(1-clf1.score(t_pca_test, Test_classes))\n",
    "    \n",
    "    lda = LinearDiscriminantAnalysis(n_components=i)\n",
    "    t_lda_train = lda.fit_transform(train,Train_classes)\n",
    "    t_lda_test = lda.transform(test)\n",
    "    \n",
    "    clf2 = RandomForestClassifier(max_depth=10, random_state=0)\n",
    "    clf2.fit(t_lda_train, Train_classes)\n",
    "    Model_trainErr_LDA.append(1-clf2.score(t_lda_train, Train_classes))\n",
    "    Model_testErr_LDA.append(1-clf2.score(t_lda_test, Test_classes))\n"
   ]
  },
  {
   "cell_type": "markdown",
   "metadata": {},
   "source": [
    "plot it"
   ]
  },
  {
   "cell_type": "code",
   "execution_count": 10,
   "metadata": {},
   "outputs": [
    {
     "data": {
      "image/png": "[encoded data removed]",
      "text/plain": [
       "<Figure size 432x288 with 2 Axes>"
      ]
     },
     "metadata": {
      "needs_background": "light"
     },
     "output_type": "display_data"
    }
   ],
   "source": [
    "x = np.linspace(1, 20, 10) \n",
    "y1 = np.polyfit(x, Model_trainErr_PCA, 6)\n",
    "p1 = np.poly1d(y1)\n",
    "y2 = np.polyfit(x, Model_testErr_PCA, 6)\n",
    "p2 = np.poly1d(y2)\n",
    "\n",
    "y3 = np.polyfit(x, Model_trainErr_LDA, 6) \n",
    "p3 = np.poly1d(y3)\n",
    "y4 = np.polyfit(x, Model_testErr_LDA, 6)\n",
    "p4 = np.poly1d(y4)\n",
    "\n",
    "plt.subplot(1, 2, 1)\n",
    "plt.plot(x, p1(x), label=\"Train\")\n",
    "plt.plot(x, p2(x), label=\"Test\")\n",
    "plt.title(\"PCA\")\n",
    "plt.xlabel(\"n_components\")\n",
    "plt.ylabel(\"Error\")\n",
    "\n",
    "plt.subplot(1, 2, 2) # index 2\n",
    "plt.plot(x, p3(x), label=\"Train\")\n",
    "plt.plot(x, p4(x), label=\"Test\")\n",
    "plt.title(\"LDA\")\n",
    "plt.xlabel(\"n_components\")\n",
    "\n",
    "\n",
    "plt.legend(loc=\"best\") \n",
    "plt.show()"
   ]
  },
  {
   "cell_type": "markdown",
   "metadata": {},
   "source": [
    "Use PCA and LDA with best amount of components:"
   ]
  },
  {
   "cell_type": "code",
   "execution_count": 11,
   "metadata": {},
   "outputs": [],
   "source": [
    "pca = PCA(n_components=10)\n",
    "pca_train = pca.fit_transform(train)\n",
    "pca_test = pca.transform(test)\n",
    "\n",
    "lda = LinearDiscriminantAnalysis(n_components=7)\n",
    "lda_train = lda.fit_transform(train,Train_classes)\n",
    "lda_test = lda.transform(test)"
   ]
  },
  {
   "cell_type": "markdown",
   "metadata": {},
   "source": [
    "Print RF learning curves (PCA V.S LDA):"
   ]
  },
  {
   "cell_type": "code",
   "execution_count": 12,
   "metadata": {},
   "outputs": [],
   "source": [
    "testErr_PCA = []\n",
    "trainErr_PCA = []\n",
    "\n",
    "testErr_LDA = []\n",
    "trainErr_LDA = []\n",
    "\n",
    "for i in range(170, 4170, 100):\n",
    "    X_train = np.split(pca_train,[i,i])[0]\n",
    "    y_train = np.split(Train_classes,[i,i])[0]\n",
    "    clf1 = RandomForestClassifier(max_depth=10, random_state=0)\n",
    "    clf1.fit(X_train, y_train)\n",
    "    trainErr_PCA.append(1-clf1.score(X_train, y_train))\n",
    "    testErr_PCA.append(1-clf1.score(pca_test, Test_classes))\n",
    "\n",
    "for i in range(170, 4170, 100):\n",
    "    X_train = np.split(lda_train,[i,i])[0]\n",
    "    y_train = np.split(Train_classes,[i,i])[0]    \n",
    "    clf2 = RandomForestClassifier(max_depth=10, random_state=0)\n",
    "    clf2.fit(X_train, y_train)\n",
    "    trainErr_LDA.append(1-clf2.score(X_train, y_train))\n",
    "    testErr_LDA.append(1-clf2.score(lda_test, Test_classes))\n"
   ]
  },
  {
   "cell_type": "code",
   "execution_count": 13,
   "metadata": {},
   "outputs": [
    {
     "name": "stdout",
     "output_type": "stream",
     "text": [
      "RANDOM FOREST:\n"
     ]
    },
    {
     "data": {
      "image/png": "[encoded data removed]",
      "text/plain": [
       "<Figure size 432x288 with 2 Axes>"
      ]
     },
     "metadata": {
      "needs_background": "light"
     },
     "output_type": "display_data"
    }
   ],
   "source": [
    "print('RANDOM FOREST:')\n",
    "plt.xlabel(\"Samples\")\n",
    "plt.ylabel(\"Error\")\n",
    "\n",
    "x = np.linspace(170, 4170, 40) \n",
    "y1 = np.polyfit(x, trainErr_PCA, 6)\n",
    "p1 = np.poly1d(y1)\n",
    "y2 = np.polyfit(x, testErr_PCA, 6)\n",
    "p2 = np.poly1d(y2)\n",
    "\n",
    "y3 = np.polyfit(x, trainErr_LDA, 6) \n",
    "p3 = np.poly1d(y3)\n",
    "y4 = np.polyfit(x, testErr_LDA, 6)\n",
    "p4 = np.poly1d(y4)\n",
    "\n",
    "plt.subplot(1, 2, 1)\n",
    "plt.plot(x, p1(x), label=\"Train\")\n",
    "plt.plot(x, p2(x), label=\"Test\")\n",
    "plt.title(\"PCA\")\n",
    "plt.xlabel(\"sample\")\n",
    "plt.ylabel(\"Error\")\n",
    "\n",
    "plt.subplot(1, 2, 2) # index 2\n",
    "plt.plot(x, p3(x), label=\"Train\")\n",
    "plt.plot(x, p4(x), label=\"Test\")\n",
    "plt.title(\"LDA\")\n",
    "plt.xlabel(\"sample\")\n",
    "\n",
    "\n",
    "plt.legend(loc=\"best\") \n",
    "plt.show()"
   ]
  },
  {
   "cell_type": "markdown",
   "metadata": {},
   "source": [
    "from the learning curves we can sea that we are at underfitted mode(more data would be awsome):"
   ]
  },
  {
   "cell_type": "code",
   "execution_count": 14,
   "metadata": {},
   "outputs": [
    {
     "name": "stdout",
     "output_type": "stream",
     "text": [
      "PCA: 0.23373373373373374\n",
      "ldA: 0.2092092092092092\n"
     ]
    }
   ],
   "source": [
    "clf1 = RandomForestClassifier(max_depth=10, random_state=0)\n",
    "clf1.fit(pca_train, Train_classes)\n",
    "print(\"PCA:\" ,clf1.score(pca_test, Test_classes))\n",
    "\n",
    "clf2 = RandomForestClassifier(max_depth=10, random_state=0)\n",
    "clf2.fit(lda_train, Train_classes)\n",
    "print(\"ldA:\" ,clf2.score(lda_test, Test_classes))"
   ]
  },
  {
   "cell_type": "markdown",
   "metadata": {},
   "source": [
    "Print SVM learning curves (PCA V.S LDA):"
   ]
  },
  {
   "cell_type": "code",
   "execution_count": 15,
   "metadata": {},
   "outputs": [],
   "source": [
    "from sklearn import svm\n",
    "\n",
    "testErr_PCA = []\n",
    "trainErr_PCA = []\n",
    "\n",
    "testErr_LDA = []\n",
    "trainErr_LDA = []\n",
    "\n",
    "\n",
    "for i in range(170, 4170, 100):\n",
    "    X_train = np.split(pca_train,[i,i])[0]\n",
    "    y_train = np.split(Train_classes,[i,i])[0]\n",
    "    svc1 = svm.SVC(kernel='rbf')\n",
    "    svc1.fit(X_train, y_train)\n",
    "    trainErr_PCA.append(1-svc1.score(X_train, y_train))\n",
    "    testErr_PCA.append(1-svc1.score(pca_test, Test_classes))\n",
    "\n",
    "for i in range(170, 4170, 100):\n",
    "    X_train = np.split(lda_train,[i,i])[0]\n",
    "    y_train = np.split(Train_classes,[i,i])[0]    \n",
    "    svc2 = svm.SVC(kernel='rbf')\n",
    "    svc2.fit(X_train, y_train)\n",
    "    trainErr_LDA.append(1-svc2.score(X_train, y_train))\n",
    "    testErr_LDA.append(1-svc2.score(lda_test, Test_classes))\n",
    "\n"
   ]
  },
  {
   "cell_type": "code",
   "execution_count": 16,
   "metadata": {},
   "outputs": [
    {
     "name": "stdout",
     "output_type": "stream",
     "text": [
      "SVM:\n"
     ]
    },
    {
     "data": {
      "image/png": "[encoded data removed]",
      "text/plain": [
       "<Figure size 432x288 with 2 Axes>"
      ]
     },
     "metadata": {
      "needs_background": "light"
     },
     "output_type": "display_data"
    }
   ],
   "source": [
    "print('SVM:')\n",
    "plt.xlabel(\"Samples\")\n",
    "plt.ylabel(\"Error\")\n",
    "\n",
    "x = np.linspace(170, 4170, 40) \n",
    "y1 = np.polyfit(x, trainErr_PCA, 6)\n",
    "p1 = np.poly1d(y1)\n",
    "y2 = np.polyfit(x, testErr_PCA, 6)\n",
    "p2 = np.poly1d(y2)\n",
    "\n",
    "y3 = np.polyfit(x, trainErr_LDA, 6) \n",
    "p3 = np.poly1d(y3)\n",
    "y4 = np.polyfit(x, testErr_LDA, 6)\n",
    "p4 = np.poly1d(y4)\n",
    "\n",
    "plt.subplot(1, 2, 1)\n",
    "plt.plot(x, p1(x), label=\"Train\")\n",
    "plt.plot(x, p2(x), label=\"Test\")\n",
    "plt.title(\"PCA\")\n",
    "plt.xlabel(\"sample\")\n",
    "plt.ylabel(\"Error\")\n",
    "\n",
    "plt.subplot(1, 2, 2)\n",
    "plt.plot(x, p3(x), label=\"Train\")\n",
    "plt.plot(x, p4(x), label=\"Test\")\n",
    "plt.title(\"LDA\")\n",
    "plt.xlabel(\"sample\")\n",
    "\n",
    "\n",
    "plt.legend(loc=\"best\") \n",
    "plt.show()"
   ]
  },
  {
   "cell_type": "markdown",
   "metadata": {},
   "source": [
    "just like in RF we need more data for PCA but LDA looks like he is almost reaching his pick!"
   ]
  },
  {
   "cell_type": "code",
   "execution_count": 17,
   "metadata": {},
   "outputs": [
    {
     "name": "stdout",
     "output_type": "stream",
     "text": [
      "PCA: 0.19269269269269268\n",
      "LDA: 0.2007007007007007\n"
     ]
    }
   ],
   "source": [
    "svc1 = svm.SVC(kernel='rbf')\n",
    "svc1.fit(pca_train, Train_classes)\n",
    "print(\"PCA:\", svc1.score(pca_test, Test_classes))\n",
    "\n",
    "svc2 = svm.SVC(kernel='rbf')\n",
    "svc2.fit(lda_train, Train_classes)\n",
    "print(\"LDA:\", svc2.score(lda_test, Test_classes))"
   ]
  },
  {
   "cell_type": "markdown",
   "metadata": {},
   "source": [
    "Print learning NB curves (PCA V.S LDA):"
   ]
  },
  {
   "cell_type": "code",
   "execution_count": 18,
   "metadata": {},
   "outputs": [],
   "source": [
    "from sklearn.naive_bayes import GaussianNB\n",
    "testErr_PCA = []\n",
    "trainErr_PCA = []\n",
    "\n",
    "testErr_LDA = []\n",
    "trainErr_LDA = []\n",
    "\n",
    "\n",
    "for i in range(170, 4170, 100):\n",
    "    X_train = np.split(pca_train,[i,i])[0]\n",
    "    y_train = np.split(Train_classes,[i,i])[0]\n",
    "    gnb1 = GaussianNB()\n",
    "    gnb1.fit(X_train, y_train)\n",
    "    trainErr_PCA.append(1-gnb1.score(X_train, y_train))\n",
    "    testErr_PCA.append(1-gnb1.score(pca_test, Test_classes))\n",
    "\n",
    "for i in range(170, 4170, 100):\n",
    "    X_train = np.split(lda_train,[i,i])[0]\n",
    "    y_train = np.split(Train_classes,[i,i])[0]    \n",
    "    gnb2 = GaussianNB()\n",
    "    gnb2.fit(X_train, y_train)\n",
    "    trainErr_LDA.append(1-gnb2.score(X_train, y_train))\n",
    "    testErr_LDA.append(1-gnb2.score(lda_test, Test_classes))"
   ]
  },
  {
   "cell_type": "code",
   "execution_count": 19,
   "metadata": {},
   "outputs": [
    {
     "name": "stdout",
     "output_type": "stream",
     "text": [
      "GNB:\n"
     ]
    },
    {
     "data": {
      "image/png": "[encoded data removed]",
      "text/plain": [
       "<Figure size 432x288 with 2 Axes>"
      ]
     },
     "metadata": {
      "needs_background": "light"
     },
     "output_type": "display_data"
    }
   ],
   "source": [
    "print('GNB:')\n",
    "plt.xlabel(\"Samples\")\n",
    "plt.ylabel(\"Error\")\n",
    "\n",
    "x = np.linspace(170, 4170, 40) \n",
    "y1 = np.polyfit(x, trainErr_PCA, 6)\n",
    "p1 = np.poly1d(y1)\n",
    "y2 = np.polyfit(x, testErr_PCA, 6)\n",
    "p2 = np.poly1d(y2)\n",
    "\n",
    "y3 = np.polyfit(x, trainErr_LDA, 6) \n",
    "p3 = np.poly1d(y3)\n",
    "y4 = np.polyfit(x, testErr_LDA, 6)\n",
    "p4 = np.poly1d(y4)\n",
    "\n",
    "plt.subplot(1, 2, 1)\n",
    "plt.plot(x, p1(x), label=\"Train-PCA\")\n",
    "plt.plot(x, p2(x), label=\"Test-PCA\")\n",
    "plt.title(\"PCA\")\n",
    "plt.xlabel(\"sample\")\n",
    "plt.ylabel(\"Error\")\n",
    "\n",
    "plt.subplot(1, 2, 2)\n",
    "plt.plot(x, p3(x), label=\"Train-LDA\")\n",
    "plt.plot(x, p4(x), label=\"Test-LDA\")\n",
    "plt.title(\"LDA\")\n",
    "plt.xlabel(\"sample\")\n",
    "\n",
    "\n",
    "plt.legend(loc=\"best\") \n",
    "plt.show()"
   ]
  },
  {
   "cell_type": "markdown",
   "metadata": {},
   "source": [
    "PCA would like more data!"
   ]
  },
  {
   "cell_type": "code",
   "execution_count": 20,
   "metadata": {},
   "outputs": [
    {
     "name": "stdout",
     "output_type": "stream",
     "text": [
      "pca: 0.16266266266266266\n",
      "lda: 0.16416416416416416\n"
     ]
    }
   ],
   "source": [
    "gnb1 = GaussianNB()\n",
    "gnb2 = GaussianNB()\n",
    "gnb1.fit(pca_train, Train_classes)\n",
    "gnb2.fit(lda_train, Train_classes)\n",
    "print(\"pca:\", gnb1.score(pca_test, Test_classes))\n",
    "print(\"lda:\", gnb2.score(lda_test, Test_classes))"
   ]
  },
  {
   "cell_type": "code",
   "execution_count": null,
   "metadata": {},
   "outputs": [],
   "source": []
  },
  {
   "cell_type": "code",
   "execution_count": null,
   "metadata": {},
   "outputs": [],
   "source": []
  }
 ],
 "metadata": {
  "kernelspec": {
   "display_name": "Python 3 (ipykernel)",
   "language": "python",
   "name": "python3"
  },
  "language_info": {
   "codemirror_mode": {
    "name": "ipython",
    "version": 3
   },
   "file_extension": ".py",
   "mimetype": "text/x-python",
   "name": "python",
   "nbconvert_exporter": "python",
   "pygments_lexer": "ipython3",
   "version": "3.9.6"
  },
  "vscode": {
   "interpreter": {
    "hash": "f544ce1a915a9875fad91c894e2c0bcad4b7a79945aa6027ef3ad27810072aa6"
   }
  }
 },
 "nbformat": 4,
 "nbformat_minor": 2
}
