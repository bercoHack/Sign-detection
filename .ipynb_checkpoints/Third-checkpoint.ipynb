{
 "cells": [
  {
   "cell_type": "markdown",
   "id": "526d970f",
   "metadata": {},
   "source": [
    "# Traffic signs detection project #\n",
    "Section 3: CNN."
   ]
  },
  {
   "cell_type": "code",
   "execution_count": 5,
   "id": "6b696295",
   "metadata": {},
   "outputs": [],
   "source": [
    "import os \n",
    "import numpy as np\n",
    "import matplotlib.pyplot as plt\n",
    "from sklearn.decomposition import PCA\n",
    "from sklearn.discriminant_analysis import LinearDiscriminantAnalysis\n",
    "from scipy import ndimage\n",
    "import numpy as np\n",
    "from tensorflow import keras\n",
    "from tensorflow.keras import layers\n",
    "import tensorflow as tf\n",
    "\n",
    "\n",
    "path_base = os.getcwd() + \"\\\\databases\"\n",
    "train, test = np.load(os.path.join(path_base,'train.npy')), np.load(os.path.join(path_base,'test.npy'))"
   ]
  },
  {
   "cell_type": "markdown",
   "id": "58f81163",
   "metadata": {},
   "source": [
    "### data changes and extraction"
   ]
  },
  {
   "cell_type": "code",
   "execution_count": 6,
   "id": "d09e1bae",
   "metadata": {},
   "outputs": [],
   "source": [
    "path_pict = os.getcwd() + \"\\\\pictures\"\n",
    "\n",
    "f = open(path_pict + \"\\\\TsignRecgTrain4170Annotation.txt\", \"r\")\n",
    "str = f.read()\n",
    "\n",
    "lines = str.split(\"\\n\")\n",
    "arr = []\n",
    "for line in lines:\n",
    "    arr.append(int(line.split(\";\")[7]))\n",
    "    \n",
    "Train_classes = []\n",
    "for i in range(58):\n",
    "    for k in range(arr.count(i)):\n",
    "        Train_classes.append(i)\n",
    "\n",
    "#get classification from file\n",
    "path_pict = os.getcwd() + \"\\\\pictures\"\n",
    "\n",
    "f = open(path_pict + \"\\\\TsignRecgTest1994Annotation.txt\", \"r\")\n",
    "str = f.read()\n",
    "\n",
    "lines = str.split(\"\\n\")\n",
    "arr = []\n",
    "for line in lines:\n",
    "    arr.append(int(line.split(\";\")[7]))\n",
    "    \n",
    "Test_classes = []\n",
    "for i in range(58):\n",
    "    for k in range(arr.count(i)):\n",
    "        Test_classes.append(i)\n",
    "Test_classes = np.array(Test_classes)\n",
    "Train_classes = np.array(Train_classes)\n",
    "\n",
    "large_train_classes = []\n",
    "for i in range(0, 4170*3):\n",
    "    large_train_classes.append(Train_classes[i % 4170])"
   ]
  },
  {
   "cell_type": "markdown",
   "id": "18bc4e66",
   "metadata": {},
   "source": [
    "### Now we augmentate the images in the array in order to get a larger data set and try to reach higher accuracy percentage:\n"
   ]
  },
  {
   "cell_type": "code",
   "execution_count": null,
   "id": "f03fb525",
   "metadata": {},
   "outputs": [],
   "source": [
    "large_train = []\n",
    "\n",
    "for i in range(0, 4170):\n",
    "    large_train.append(train[i])\n",
    "for i in range(0, 4170):\n",
    "    large_train.append(ndimage.rotate(train[i], 20, reshape=False))\n",
    "for i in range(0, 4170):\n",
    "    large_train.append(ndimage.rotate(train[i], -20, reshape=False))\n",
    "\n",
    "large_train = np.array(large_train)"
   ]
  },
  {
   "cell_type": "markdown",
   "id": "5c9535bb",
   "metadata": {},
   "source": [
    "### Neural Network (CNN):"
   ]
  },
  {
   "cell_type": "code",
   "execution_count": 8,
   "id": "b343cef1",
   "metadata": {
    "scrolled": true
   },
   "outputs": [
    {
     "name": "stdout",
     "output_type": "stream",
     "text": [
      "Model: \"sequential_1\"\n",
      "_________________________________________________________________\n",
      " Layer (type)                Output Shape              Param #   \n",
      "=================================================================\n",
      " rescaling_1 (Rescaling)     (None, 45, 45, 1)         0         \n",
      "                                                                 \n",
      " conv2d_3 (Conv2D)           (None, 40, 40, 24)        888       \n",
      "                                                                 \n",
      " batch_normalization_3 (Batc  (None, 40, 40, 24)       96        \n",
      " hNormalization)                                                 \n",
      "                                                                 \n",
      " conv2d_4 (Conv2D)           (None, 18, 18, 48)        28848     \n",
      "                                                                 \n",
      " dropout_2 (Dropout)         (None, 18, 18, 48)        0         \n",
      "                                                                 \n",
      " conv2d_5 (Conv2D)           (None, 8, 8, 64)          49216     \n",
      "                                                                 \n",
      " batch_normalization_4 (Batc  (None, 8, 8, 64)         256       \n",
      " hNormalization)                                                 \n",
      "                                                                 \n",
      " flatten_1 (Flatten)         (None, 4096)              0         \n",
      "                                                                 \n",
      " dense_2 (Dense)             (None, 58)                237626    \n",
      "                                                                 \n",
      " dropout_3 (Dropout)         (None, 58)                0         \n",
      "                                                                 \n",
      " batch_normalization_5 (Batc  (None, 58)               232       \n",
      " hNormalization)                                                 \n",
      "                                                                 \n",
      " dense_3 (Dense)             (None, 58)                3422      \n",
      "                                                                 \n",
      "=================================================================\n",
      "Total params: 320,584\n",
      "Trainable params: 320,292\n",
      "Non-trainable params: 292\n",
      "_________________________________________________________________\n",
      "Epoch 1/15\n",
      "88/88 [==============================] - 26s 268ms/step - loss: 2.6069 - accuracy: 0.4259 - val_loss: 3.6413 - val_accuracy: 0.2590\n",
      "Epoch 2/15\n",
      "88/88 [==============================] - 23s 262ms/step - loss: 1.4135 - accuracy: 0.6977 - val_loss: 3.8888 - val_accuracy: 0.0160\n",
      "Epoch 3/15\n",
      "88/88 [==============================] - 25s 289ms/step - loss: 0.9727 - accuracy: 0.7836 - val_loss: 3.8897 - val_accuracy: 0.0000e+00\n",
      "Epoch 4/15\n",
      "88/88 [==============================] - 24s 271ms/step - loss: 0.7190 - accuracy: 0.8433 - val_loss: 3.1387 - val_accuracy: 0.1751\n",
      "Epoch 5/15\n",
      "88/88 [==============================] - 23s 260ms/step - loss: 0.5339 - accuracy: 0.8859 - val_loss: 2.3224 - val_accuracy: 0.3941\n",
      "Epoch 6/15\n",
      "88/88 [==============================] - 26s 299ms/step - loss: 0.4261 - accuracy: 0.9098 - val_loss: 1.7753 - val_accuracy: 0.4876\n",
      "Epoch 7/15\n",
      "88/88 [==============================] - 26s 291ms/step - loss: 0.3443 - accuracy: 0.9237 - val_loss: 1.4336 - val_accuracy: 0.5524\n",
      "Epoch 8/15\n",
      "88/88 [==============================] - 24s 268ms/step - loss: 0.2822 - accuracy: 0.9383 - val_loss: 1.3764 - val_accuracy: 0.5779\n",
      "Epoch 9/15\n",
      "88/88 [==============================] - 23s 259ms/step - loss: 0.2373 - accuracy: 0.9476 - val_loss: 1.2750 - val_accuracy: 0.5971\n",
      "Epoch 10/15\n",
      "88/88 [==============================] - 23s 257ms/step - loss: 0.2079 - accuracy: 0.9519 - val_loss: 1.3151 - val_accuracy: 0.5683\n",
      "Epoch 11/15\n",
      "88/88 [==============================] - 23s 262ms/step - loss: 0.1726 - accuracy: 0.9647 - val_loss: 1.2357 - val_accuracy: 0.5971\n",
      "Epoch 12/15\n",
      "88/88 [==============================] - 23s 257ms/step - loss: 0.1515 - accuracy: 0.9671 - val_loss: 1.2867 - val_accuracy: 0.6051\n",
      "Epoch 13/15\n",
      "88/88 [==============================] - 24s 269ms/step - loss: 0.1446 - accuracy: 0.9698 - val_loss: 1.4999 - val_accuracy: 0.5699\n",
      "Epoch 14/15\n",
      "88/88 [==============================] - 25s 283ms/step - loss: 0.1239 - accuracy: 0.9723 - val_loss: 1.3069 - val_accuracy: 0.5795\n",
      "Epoch 15/15\n",
      "88/88 [==============================] - 24s 273ms/step - loss: 0.1129 - accuracy: 0.9775 - val_loss: 1.1718 - val_accuracy: 0.6339\n",
      "Test loss: 0.8349171876907349\n",
      "Test accuracy: 0.7657657861709595\n"
     ]
    }
   ],
   "source": [
    "num_classes = 58\n",
    "input_shape = (45, 45, 1)\n",
    "y_train = keras.utils.to_categorical(large_train_classes, num_classes)\n",
    "y_test = keras.utils.to_categorical(Test_classes, num_classes)\n",
    "\n",
    "model = keras.Sequential(\n",
    "    [\n",
    "        keras.Input(shape=input_shape),\n",
    "        layers.Rescaling(scale=1 / 127.5, offset=-1),\n",
    "        layers.Conv2D(24, kernel_size=(6, 6), activation=\"relu\"),\n",
    "        layers.BatchNormalization(),\n",
    "        layers.Conv2D(48, kernel_size=(5, 5), strides=(2, 2), activation=\"relu\"),\n",
    "        layers.Dropout(0.5),\n",
    "        layers.Conv2D(64, kernel_size=(4, 4), strides=(2, 2), activation=\"relu\"),\n",
    "        layers.BatchNormalization(),\n",
    "        layers.Flatten(),\n",
    "        layers.Dense(num_classes, activation=\"relu\"),\n",
    "        layers.Dropout(0.5),\n",
    "        layers.BatchNormalization(),\n",
    "        layers.Dense(num_classes, activation=\"softmax\"),\n",
    "    ]\n",
    ")\n",
    "\n",
    "model.summary()\n",
    "\n",
    "batch_size = 128\n",
    "epochs = 15\n",
    "model.compile(loss=\"categorical_crossentropy\", optimizer=\"adam\", metrics=[\"accuracy\"])\n",
    "history = model.fit(large_train, y_train, batch_size=batch_size, epochs=epochs, validation_split=0.1)\n",
    "\n",
    "score = model.evaluate(test, y_test, verbose=0)\n",
    "print(\"Test loss:\", score[0])\n",
    "print(\"Test accuracy:\", score[1])"
   ]
  },
  {
   "cell_type": "code",
   "execution_count": 9,
   "id": "00939b76",
   "metadata": {},
   "outputs": [
    {
     "data": {
      "image/png": "[encoded data removed]",
      "text/plain": [
       "<Figure size 1008x432 with 2 Axes>"
      ]
     },
     "metadata": {
      "needs_background": "light"
     },
     "output_type": "display_data"
    }
   ],
   "source": [
    "history_dict = history.history\n",
    "loss_values = history_dict['loss']\n",
    "val_loss_values = history_dict['val_loss']\n",
    "accuracy = history_dict['accuracy']\n",
    "val_accuracy = history_dict['val_accuracy']\n",
    " \n",
    "epochs = range(1, len(loss_values) + 1)\n",
    "fig, ax = plt.subplots(1, 2, figsize=(14, 6))\n",
    "#\n",
    "# Plot the model accuracy vs Epochs\n",
    "#\n",
    "ax[0].plot(epochs, accuracy, 'g', label='Training accuracy')\n",
    "ax[0].plot(epochs, val_accuracy, 'b', label='Validation accuracy')\n",
    "ax[0].set_title('Training & Validation Accuracy', fontsize=16)\n",
    "ax[0].set_xlabel('Epochs', fontsize=16)\n",
    "ax[0].set_ylabel('Accuracy', fontsize=16)\n",
    "ax[0].legend()\n",
    "#\n",
    "# Plot the loss vs Epochs\n",
    "#\n",
    "ax[1].plot(epochs, loss_values, 'g', label='Training loss')\n",
    "ax[1].plot(epochs, val_loss_values, 'b', label='Validation loss')\n",
    "ax[1].set_title('Training & Validation Loss', fontsize=16)\n",
    "ax[1].set_xlabel('Epochs', fontsize=16)\n",
    "ax[1].set_ylabel('Loss', fontsize=16)\n",
    "ax[1].legend()\n",
    "\n",
    "plt.show()"
   ]
  },
  {
   "cell_type": "code",
   "execution_count": null,
   "id": "b85e544e",
   "metadata": {},
   "outputs": [],
   "source": []
  }
 ],
 "metadata": {
  "kernelspec": {
   "display_name": "Python 3 (ipykernel)",
   "language": "python",
   "name": "python3"
  },
  "language_info": {
   "codemirror_mode": {
    "name": "ipython",
    "version": 3
   },
   "file_extension": ".py",
   "mimetype": "text/x-python",
   "name": "python",
   "nbconvert_exporter": "python",
   "pygments_lexer": "ipython3",
   "version": "3.9.6"
  },
  "vscode": {
   "interpreter": {
    "hash": "f544ce1a915a9875fad91c894e2c0bcad4b7a79945aa6027ef3ad27810072aa6"
   }
  }
 },
 "nbformat": 4,
 "nbformat_minor": 5
}
