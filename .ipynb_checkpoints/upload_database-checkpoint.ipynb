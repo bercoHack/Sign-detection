{
 "cells": [
  {
   "cell_type": "code",
   "execution_count": 4,
   "id": "29f529ae",
   "metadata": {},
   "outputs": [],
   "source": [
    "#importing the libraries\n",
    "import os \n",
    "import cv2\n",
    "import numpy as np\n",
    "import matplotlib.pyplot as plt\n",
    "%matplotlib inline"
   ]
  },
  {
   "cell_type": "code",
   "execution_count": 5,
   "id": "23dd625d",
   "metadata": {},
   "outputs": [],
   "source": [
    "#setting the path to the directory containing the pics\n",
    "path_train = os.getcwd() + '\\\\pictures\\\\train'\n",
    "path_test = os.getcwd() + '\\\\pictures\\\\test'"
   ]
  },
  {
   "cell_type": "code",
   "execution_count": 6,
   "id": "6f5a1931",
   "metadata": {},
   "outputs": [],
   "source": [
    "#appending the pics to the training data list\n",
    "training_data = []\n",
    "testing_data = []\n",
    "for img in os.listdir(path_train):\n",
    "    pic = cv2.imread(os.path.join(path_train,img))\n",
    "    pic = cv2.cvtColor(pic,cv2.COLOR_BGR2GRAY)\n",
    "    pic = cv2.resize(pic,(45, 45))\n",
    "    training_data.append(pic)\n",
    "for img in os.listdir(path_test):\n",
    "    pic = cv2.imread(os.path.join(path_test,img))\n",
    "    pic = cv2.cvtColor(pic,cv2.COLOR_BGR2GRAY)\n",
    "    pic = cv2.resize(pic,(45, 45))\n",
    "    testing_data.append(pic)"
   ]
  },
  {
   "cell_type": "code",
   "execution_count": 7,
   "id": "7125cef7",
   "metadata": {},
   "outputs": [],
   "source": [
    "#converting the list to numpy array and saving it to a file using #numpy.save\n",
    "path_base = os.getcwd() + \"\\\\databases\"\n",
    "np.save(os.path.join(path_base,'train'),np.array(training_data))\n",
    "np.save(os.path.join(path_base,'test'),np.array(testing_data))"
   ]
  },
  {
   "cell_type": "code",
   "execution_count": null,
   "id": "83856dc5",
   "metadata": {},
   "outputs": [],
   "source": [
    "#loading the saved file once again\n",
    "saved_train = np.load(os.path.join(path_base,'train.npy'))\n",
    "saved_test = np.load(os.path.join(path_base,'test.npy'))"
   ]
  },
  {
   "cell_type": "code",
   "execution_count": null,
   "id": "1d4da076",
   "metadata": {},
   "outputs": [],
   "source": [
    "plt.imshow(saved_train[0].reshape(45,45))\n",
    "plt.imshow(np.array(training_data[0]).reshape(45,45))\n",
    "plt.imshow(saved_test[0].reshape(45,45))\n",
    "plt.imshow(np.array(testing_data[0]).reshape(45,45))"
   ]
  },
  {
   "cell_type": "code",
   "execution_count": null,
   "id": "ae4c4d3c",
   "metadata": {},
   "outputs": [],
   "source": []
  }
 ],
 "metadata": {
  "kernelspec": {
   "display_name": "Python 3 (ipykernel)",
   "language": "python",
   "name": "python3"
  },
  "language_info": {
   "codemirror_mode": {
    "name": "ipython",
    "version": 3
   },
   "file_extension": ".py",
   "mimetype": "text/x-python",
   "name": "python",
   "nbconvert_exporter": "python",
   "pygments_lexer": "ipython3",
   "version": "3.9.6"
  },
  "vscode": {
   "interpreter": {
    "hash": "f544ce1a915a9875fad91c894e2c0bcad4b7a79945aa6027ef3ad27810072aa6"
   }
  }
 },
 "nbformat": 4,
 "nbformat_minor": 5
}
